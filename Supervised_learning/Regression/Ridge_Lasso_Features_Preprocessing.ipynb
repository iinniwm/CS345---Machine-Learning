{
  "nbformat": 4,
  "nbformat_minor": 0,
  "metadata": {
    "colab": {
      "name": "Ridge_Lasso_Features_Preprocessing.ipynb",
      "provenance": [],
      "collapsed_sections": []
    },
    "kernelspec": {
      "name": "python3",
      "display_name": "Python 3"
    },
    "language_info": {
      "name": "python"
    }
  },
  "cells": [
    {
      "cell_type": "markdown",
      "metadata": {
        "id": "8M1vz_xIB7sF"
      },
      "source": [
        "#**Feature Preprocessing and Normalization : Ridge and Lasso Regression**\n",
        "\n",
        "\n",
        "1.   MinMaxScalar\n",
        "2.   Polynomial Features\n",
        "\n"
      ]
    },
    {
      "cell_type": "markdown",
      "metadata": {
        "id": "RbEP4ppVGhVY"
      },
      "source": [
        "\n",
        "\n",
        "##**1. MinMaxScalar**\n",
        "\n",
        "\n",
        "\n",
        "\n",
        "\n"
      ]
    },
    {
      "cell_type": "code",
      "metadata": {
        "id": "7xZZbut08DVp"
      },
      "source": [
        "def load_crime_dataset():\n",
        "    # Communities and Crime dataset for regression\n",
        "    # https://archive.ics.uci.edu/ml/datasets/Communities+and+Crime+Unnormalized\n",
        "\n",
        "    import pandas as pd\n",
        "\n",
        "    crime = pd.read_table('/content/sample_data/CommViolPredUnnormalizedData.txt', sep=',', na_values='?')\n",
        "    # remove features with poor coverage or lower relevance, and keep ViolentCrimesPerPop target column\n",
        "    columns_to_keep = [5, 6] + list(range(11,26)) + list(range(32, 103)) + [145] \n",
        "\n",
        "    crime = (crime[crime.columns[columns_to_keep]]\n",
        "         .dropna()\n",
        "         .reset_index(drop=True))\n",
        "    X_crime = crime[crime.columns[:88]]\n",
        "    y_crime = crime[crime.columns[88]]\n",
        "    return (X_crime, y_crime)\n"
      ],
      "execution_count": 7,
      "outputs": []
    },
    {
      "cell_type": "markdown",
      "metadata": {
        "id": "eOPx2QXgCWbC"
      },
      "source": [
        "## Ridge Regression with alpha parameter"
      ]
    },
    {
      "cell_type": "code",
      "metadata": {
        "id": "5NMWaAVs9FGJ",
        "colab": {
          "base_uri": "https://localhost:8080/"
        },
        "outputId": "a8f58158-6178-495e-f6c0-1c8f147ec089"
      },
      "source": [
        "import numpy as np\n",
        "\n",
        "from sklearn.model_selection import train_test_split\n",
        "from sklearn.linear_model import Ridge\n",
        "\n",
        "(X_crime, y_crime) = load_crime_dataset()\n",
        "X_train, X_test, y_train, y_test = train_test_split(X_crime, y_crime, random_state = 0)    \n",
        "\n",
        "linridge = Ridge(alpha=20.0).fit(X_train, y_train)\n",
        "\n",
        "print('Crime dataset')\n",
        "print('ridge regression linear model intercept: {}'\n",
        "     .format(linridge.intercept_))\n",
        "print('ridge regression linear model coeff:\\n{}'\n",
        "     .format(linridge.coef_))\n",
        "print('R-squared score (training): {:.3f}'\n",
        "     .format(linridge.score(X_train, y_train)))\n",
        "print('R-squared score (test): {:.3f}'\n",
        "     .format(linridge.score(X_test, y_test)))\n",
        "print('Number of non-zero features: {}'\n",
        "     .format(np.sum(linridge.coef_ != 0)))"
      ],
      "execution_count": 8,
      "outputs": [
        {
          "output_type": "stream",
          "name": "stdout",
          "text": [
            "Crime dataset\n",
            "ridge regression linear model intercept: -3352.423035846137\n",
            "ridge regression linear model coeff:\n",
            "[ 1.95091438e-03  2.19322667e+01  9.56286607e+00 -3.59178973e+01\n",
            "  6.36465325e+00 -1.96885471e+01 -2.80715856e-03  1.66254486e+00\n",
            " -6.61426604e-03 -6.95450680e+00  1.71944731e+01 -5.62819154e+00\n",
            "  8.83525114e+00  6.79085746e-01 -7.33614221e+00  6.70389803e-03\n",
            "  9.78505502e-04  5.01202169e-03 -4.89870524e+00 -1.79270062e+01\n",
            "  9.17572382e+00 -1.24454193e+00  1.21845360e+00  1.03233089e+01\n",
            " -3.78037278e+00 -3.73428973e+00  4.74595305e+00  8.42696855e+00\n",
            "  3.09250005e+01  1.18644167e+01 -2.05183675e+00 -3.82210450e+01\n",
            "  1.85081589e+01  1.52510829e+00 -2.20086608e+01  2.46283912e+00\n",
            "  3.29328703e-01  4.02228467e+00 -1.12903533e+01 -4.69567413e-03\n",
            "  4.27046505e+01 -1.22507167e-03  1.40795790e+00  9.35041855e-01\n",
            " -3.00464253e+00  1.12390514e+00 -1.82487653e+01 -1.54653407e+01\n",
            "  2.41917002e+01 -1.32497562e+01 -4.20113118e-01 -3.59710660e+01\n",
            "  1.29786751e+01 -2.80765995e+01  4.38513476e+01  3.86590044e+01\n",
            " -6.46024046e+01 -1.63714023e+01  2.90397330e+01  4.15472907e+00\n",
            "  5.34033563e+01  1.98773191e-02 -5.47413979e-01  1.23883518e+01\n",
            "  1.03526583e+01 -1.57238894e+00  3.15887097e+00  8.77757987e+00\n",
            " -2.94724962e+01 -2.32633553e-04  3.13528914e-04 -4.13990258e-04\n",
            " -1.79489212e-04 -5.74054527e-01 -5.17742507e-01 -4.20670931e-01\n",
            "  1.53383594e-01  1.32725423e+00  3.84863158e+00  3.03024594e+00\n",
            " -3.77692644e+01  1.37933464e-01  3.07676522e-01  1.57128807e+01\n",
            "  3.31418306e-01  3.35994414e+00  1.61265911e-01 -2.67619878e+00]\n",
            "R-squared score (training): 0.671\n",
            "R-squared score (test): 0.494\n",
            "Number of non-zero features: 88\n"
          ]
        }
      ]
    },
    {
      "cell_type": "markdown",
      "metadata": {
        "id": "kCXlucsKC7Uh"
      },
      "source": [
        "## Ridge Regression with MinMaxScalar"
      ]
    },
    {
      "cell_type": "code",
      "metadata": {
        "id": "atcgyNmV9Syr",
        "colab": {
          "base_uri": "https://localhost:8080/"
        },
        "outputId": "f5d6ea4c-e2ae-4071-ff88-1c259e6f6456"
      },
      "source": [
        "from sklearn.preprocessing import MinMaxScaler\n",
        "scaler = MinMaxScaler()\n",
        "\n",
        "from sklearn.linear_model import Ridge\n",
        "X_train, X_test, y_train, y_test = train_test_split(X_crime, y_crime, random_state = 0)\n",
        "                                                    \n",
        "X_train_scaled = scaler.fit_transform(X_train)\n",
        "X_test_scaled = scaler.transform(X_test)\n",
        "\n",
        "linridge = Ridge(alpha=20.0).fit(X_train_scaled, y_train)\n",
        "\n",
        "print('Crime dataset')\n",
        "print('ridge regression linear model intercept: {}'\n",
        "     .format(linridge.intercept_))\n",
        "print('ridge regression linear model coeff:\\n{}'\n",
        "     .format(linridge.coef_))\n",
        "print('R-squared score (training): {:.3f}'\n",
        "     .format(linridge.score(X_train_scaled, y_train)))\n",
        "print('R-squared score (test): {:.3f}'\n",
        "     .format(linridge.score(X_test_scaled, y_test)))\n",
        "print('Number of non-zero features: {}'\n",
        "     .format(np.sum(linridge.coef_ != 0)))"
      ],
      "execution_count": 9,
      "outputs": [
        {
          "output_type": "stream",
          "name": "stdout",
          "text": [
            "Crime dataset\n",
            "ridge regression linear model intercept: 933.3906385044153\n",
            "ridge regression linear model coeff:\n",
            "[  88.68827454   16.48947987  -50.30285445  -82.90507574  -65.89507244\n",
            "   -2.27674244   87.74108514  150.94862182   18.8802613   -31.05554992\n",
            "  -43.13536109 -189.44266328   -4.52658099  107.97866804  -76.53358414\n",
            "    2.86032762   34.95230077   90.13523036   52.46428263  -62.10898424\n",
            "  115.01780357    2.66942023    6.94331369   -5.66646499 -101.55269144\n",
            "  -36.9087526    -8.7053343    29.11999068  171.25963057   99.36919476\n",
            "   75.06611841  123.63522539   95.24316483 -330.61044265 -442.30179004\n",
            " -284.49744001 -258.37150609   17.66431072 -101.70717151  110.64762887\n",
            "  523.13611718   24.8208959     4.86533322  -30.46775619   -3.51753937\n",
            "   50.57947231   10.84840601   18.27680946   44.11189865   58.33588176\n",
            "   67.08698975  -57.93524659  116.1446052    53.81163718   49.01607711\n",
            "   -7.62262031   55.14288543  -52.08878272  123.39291017   77.12562171\n",
            "   45.49795317  184.91229771  -91.35721203    1.07975971  234.09267451\n",
            "   10.3887921    94.7171829   167.91856631  -25.14025088   -1.18242839\n",
            "   14.60362467   36.77122659   53.19878339  -78.86365997   -5.89858411\n",
            "   26.04790298  115.1534917    68.74143311   68.28588166   16.5260514\n",
            "  -97.90513652  205.20448474   75.97304123   61.3791085   -79.83157049\n",
            "   67.26700741   95.67094538  -11.88380569]\n",
            "R-squared score (training): 0.615\n",
            "R-squared score (test): 0.599\n",
            "Number of non-zero features: 88\n"
          ]
        }
      ]
    },
    {
      "cell_type": "markdown",
      "metadata": {
        "id": "46YAwKb7DNRn"
      },
      "source": [
        "## Ridge Regression with MinMaxScalar and different Alpha"
      ]
    },
    {
      "cell_type": "code",
      "metadata": {
        "id": "eYfIRhzQ9j4h",
        "colab": {
          "base_uri": "https://localhost:8080/"
        },
        "outputId": "e8c08e24-83da-4092-944a-350bb99f86e6"
      },
      "source": [
        "for this_alpha in [0, 1, 10, 20, 50, 100, 1000]:\n",
        "    linridge = Ridge(alpha = this_alpha).fit(X_train_scaled, y_train)\n",
        "    r2_train = linridge.score(X_train_scaled, y_train)\n",
        "    r2_test = linridge.score(X_test_scaled, y_test)\n",
        "    \n",
        "    print('Alpha = {:.0f}:\\t R^2 training {:.0f}, \\t R^2 test: {:.2f}\\r'\n",
        "         .format(this_alpha, r2_train, r2_test))\n"
      ],
      "execution_count": 20,
      "outputs": [
        {
          "output_type": "stream",
          "name": "stdout",
          "text": [
            "Alpha = 0:\t R^2 training 1, \t R^2 test: 0.50\r\n",
            "Alpha = 1:\t R^2 training 1, \t R^2 test: 0.56\r\n",
            "Alpha = 10:\t R^2 training 1, \t R^2 test: 0.59\r\n",
            "Alpha = 20:\t R^2 training 1, \t R^2 test: 0.60\r\n",
            "Alpha = 50:\t R^2 training 1, \t R^2 test: 0.58\r\n",
            "Alpha = 100:\t R^2 training 1, \t R^2 test: 0.55\r\n",
            "Alpha = 1000:\t R^2 training 0, \t R^2 test: 0.30\r\n"
          ]
        }
      ]
    },
    {
      "cell_type": "markdown",
      "metadata": {
        "id": "5nQvOxaQD8gW"
      },
      "source": [
        "## Lasso Regression with MinMaxScalar"
      ]
    },
    {
      "cell_type": "code",
      "metadata": {
        "id": "ndrz4yhB9o70",
        "colab": {
          "base_uri": "https://localhost:8080/"
        },
        "outputId": "4e467edf-11de-4790-9879-bbda523e6ae3"
      },
      "source": [
        "from sklearn.linear_model import Lasso\n",
        "scaler = MinMaxScaler()\n",
        "\n",
        "X_train, X_test, y_train, y_test = train_test_split(X_crime, y_crime, random_state = 0)\n",
        "\n",
        "X_train_scaled = scaler.fit_transform(X_train)\n",
        "X_test_scaled = scaler.transform(X_test)\n",
        "\n",
        "linlasso = Lasso(alpha=2.0, max_iter = 10000).fit(X_train_scaled, y_train)\n",
        "\n",
        "print('Crime dataset')\n",
        "print('lasso regression linear model intercept: {}'\n",
        "     .format(linlasso.intercept_))\n",
        "print('lasso regression linear model coeff:\\n{}'\n",
        "     .format(linlasso.coef_))\n",
        "print('Non-zero features: {}'\n",
        "     .format(np.sum(linlasso.coef_ != 0)))\n",
        "print('R-squared score (training): {:.3f}'\n",
        "     .format(linlasso.score(X_train_scaled, y_train)))\n",
        "print('R-squared score (test): {:.3f}\\n'\n",
        "     .format(linlasso.score(X_test_scaled, y_test)))\n",
        "print('Top Features with non-zero weight:')\n",
        "\n",
        "for e in sorted (list(zip(list(X_crime), linlasso.coef_)),\n",
        "                key = lambda e: -abs(e[1])):\n",
        "    if e[1] != 0:\n",
        "        print('\\t{}, {:.3f}'.format(e[0], e[1]))"
      ],
      "execution_count": 22,
      "outputs": [
        {
          "output_type": "stream",
          "name": "stdout",
          "text": [
            "Crime dataset\n",
            "lasso regression linear model intercept: 1186.612061998579\n",
            "lasso regression linear model coeff:\n",
            "[    0.             0.            -0.          -168.18346054\n",
            "    -0.            -0.             0.           119.6938194\n",
            "     0.            -0.             0.          -169.67564456\n",
            "    -0.             0.            -0.             0.\n",
            "     0.             0.            -0.            -0.\n",
            "     0.            -0.             0.             0.\n",
            "   -57.52991966    -0.            -0.             0.\n",
            "   259.32889226    -0.             0.             0.\n",
            "     0.            -0.         -1188.7396867     -0.\n",
            "    -0.            -0.          -231.42347299     0.\n",
            "  1488.36512229     0.            -0.            -0.\n",
            "    -0.             0.             0.             0.\n",
            "     0.             0.            -0.             0.\n",
            "    20.14419415     0.             0.             0.\n",
            "     0.             0.           339.04468804     0.\n",
            "     0.           459.53799903    -0.             0.\n",
            "   122.69221826    -0.            91.41202242     0.\n",
            "    -0.             0.             0.            73.14365856\n",
            "     0.            -0.             0.             0.\n",
            "    86.35600042     0.             0.             0.\n",
            "  -104.57143405   264.93206555     0.            23.4488645\n",
            "   -49.39355188     0.             5.19775369     0.        ]\n",
            "Non-zero features: 20\n",
            "R-squared score (training): 0.631\n",
            "R-squared score (test): 0.624\n",
            "\n",
            "Top Features with non-zero weight:\n",
            "\tPctKidsBornNeverMar, 1488.365\n",
            "\tPctKids2Par, -1188.740\n",
            "\tHousVacant, 459.538\n",
            "\tPctPersDenseHous, 339.045\n",
            "\tNumInShelters, 264.932\n",
            "\tMalePctDivorce, 259.329\n",
            "\tPctWorkMom, -231.423\n",
            "\tpctWInvInc, -169.676\n",
            "\tagePct12t29, -168.183\n",
            "\tPctVacantBoarded, 122.692\n",
            "\tpctUrban, 119.694\n",
            "\tMedOwnCostPctIncNoMtg, -104.571\n",
            "\tMedYrHousBuilt, 91.412\n",
            "\tRentQrange, 86.356\n",
            "\tOwnOccHiQuart, 73.144\n",
            "\tPctEmplManu, -57.530\n",
            "\tPctBornSameState, -49.394\n",
            "\tPctForeignBorn, 23.449\n",
            "\tPctLargHouseFam, 20.144\n",
            "\tPctSameCity85, 5.198\n"
          ]
        }
      ]
    },
    {
      "cell_type": "markdown",
      "metadata": {
        "id": "IheeA0mZEyb-"
      },
      "source": [
        "## Lasso Regression with MinMaxScalar and different Alpha"
      ]
    },
    {
      "cell_type": "code",
      "metadata": {
        "id": "IhKRdijp9asN",
        "colab": {
          "base_uri": "https://localhost:8080/"
        },
        "outputId": "e250cccd-f94c-4a95-9a49-b1b9bc24de37"
      },
      "source": [
        "for alpha in [0.5, 1, 2, 3, 5, 10, 20, 50]:\n",
        "    linlasso = Lasso(alpha, max_iter = 10000).fit(X_train_scaled, y_train)\n",
        "    r2_train = linlasso.score(X_train_scaled, y_train)\n",
        "    r2_test = linlasso.score(X_test_scaled, y_test)\n",
        "    \n",
        "    print('Alpha = {:.0f}:\\tFeatures kept: {}\\tR^2 training {:.2f}, \\tR^2 test:, {:.2f}\\r'\n",
        "         .format(alpha, np.sum(linlasso.coef_ != 0), r2_train, r2_test))"
      ],
      "execution_count": 25,
      "outputs": [
        {
          "output_type": "stream",
          "name": "stdout",
          "text": [
            "Alpha = 0:\tFeatures kept: 35\tR^2 training 0.65, \tR^2 test:, 0.58\r\n",
            "Alpha = 1:\tFeatures kept: 25\tR^2 training 0.64, \tR^2 test:, 0.60\r\n",
            "Alpha = 2:\tFeatures kept: 20\tR^2 training 0.63, \tR^2 test:, 0.62\r\n",
            "Alpha = 3:\tFeatures kept: 17\tR^2 training 0.62, \tR^2 test:, 0.63\r\n",
            "Alpha = 5:\tFeatures kept: 12\tR^2 training 0.60, \tR^2 test:, 0.61\r\n",
            "Alpha = 10:\tFeatures kept: 6\tR^2 training 0.57, \tR^2 test:, 0.58\r\n",
            "Alpha = 20:\tFeatures kept: 2\tR^2 training 0.51, \tR^2 test:, 0.50\r\n",
            "Alpha = 50:\tFeatures kept: 1\tR^2 training 0.31, \tR^2 test:, 0.30\r\n"
          ]
        }
      ]
    },
    {
      "cell_type": "markdown",
      "metadata": {
        "id": "M_2MbCIdGOtg"
      },
      "source": [
        "## **2. Polynomial Features**\n",
        "\n",
        "\n",
        "\n",
        "\n",
        "\n"
      ]
    },
    {
      "cell_type": "markdown",
      "source": [
        "##Dataset: make_friedman1"
      ],
      "metadata": {
        "id": "pRMIlCjz2v5H"
      }
    },
    {
      "cell_type": "code",
      "metadata": {
        "id": "I6Z0ZaoS_yzS",
        "colab": {
          "base_uri": "https://localhost:8080/",
          "height": 281
        },
        "outputId": "4b38f3bb-4746-4ba5-f159-b7a150601174"
      },
      "source": [
        "from sklearn.datasets import make_friedman1\n",
        "\n",
        "X_F1, y_F1 = make_friedman1(n_samples = 100, n_features = 7, random_state=0)\n",
        "\n",
        "import matplotlib.pyplot as plt\n",
        "\n",
        "plt.figure()\n",
        "plt.title('Complex regression problem with one input variable')\n",
        "plt.scatter(X_F1[:, 2], y_F1, marker= 'o', s=50)\n",
        "plt.show()"
      ],
      "execution_count": 33,
      "outputs": [
        {
          "output_type": "display_data",
          "data": {
            "text/plain": [
              "<Figure size 432x288 with 1 Axes>"
            ],
            "image/png": "[encoded data removed]"
          },
          "metadata": {
            "needs_background": "light"
          }
        }
      ]
    },
    {
      "cell_type": "markdown",
      "source": [
        "##Simple Linear Regression"
      ],
      "metadata": {
        "id": "SdbZ0j5q3vDs"
      }
    },
    {
      "cell_type": "code",
      "metadata": {
        "id": "wvsXDhPm-IVH",
        "colab": {
          "base_uri": "https://localhost:8080/"
        },
        "outputId": "ae814b5f-8fc5-49fc-8022-faf3d5de8035"
      },
      "source": [
        "from sklearn.linear_model import LinearRegression\n",
        "\n",
        "X_train, X_test, y_train, y_test = train_test_split(X_F1, y_F1, random_state = 0)\n",
        "linreg = LinearRegression().fit(X_train, y_train)\n",
        "\n",
        "print('linear model coeff (w): {}'\n",
        "     .format(linreg.coef_))\n",
        "print('linear model intercept (b): {:.3f}'\n",
        "     .format(linreg.intercept_))\n",
        "print('R-squared score (training): {:.3f}'\n",
        "     .format(linreg.score(X_train, y_train)))\n",
        "print('R-squared score (test): {:.3f}'\n",
        "     .format(linreg.score(X_test, y_test)))"
      ],
      "execution_count": 35,
      "outputs": [
        {
          "output_type": "stream",
          "name": "stdout",
          "text": [
            "linear model coeff (w): [ 4.42036739  5.99661447  0.52894712 10.23751345  6.5507973  -2.02082636\n",
            " -0.32378811]\n",
            "linear model intercept (b): 1.543\n",
            "R-squared score (training): 0.722\n",
            "R-squared score (test): 0.722\n"
          ]
        }
      ]
    },
    {
      "cell_type": "markdown",
      "source": [
        "##Linear Regression with Polynomial Features"
      ],
      "metadata": {
        "id": "wEJ2Z34y3hkZ"
      }
    },
    {
      "cell_type": "code",
      "metadata": {
        "id": "icVHYOaAAH2h",
        "colab": {
          "base_uri": "https://localhost:8080/"
        },
        "outputId": "631f6f35-e3b0-4085-b055-525aa15a2b97"
      },
      "source": [
        "from sklearn.preprocessing import PolynomialFeatures\n",
        "\n",
        "poly = PolynomialFeatures(degree=2)\n",
        "X_F1_poly = poly.fit_transform(X_F1)\n",
        "\n",
        "X_train, X_test, y_train, y_test = train_test_split(X_F1_poly, y_F1, random_state = 0)\n",
        "linreg = LinearRegression().fit(X_train, y_train)\n",
        "\n",
        "print('(poly deg 2) linear model coeff (w):\\n{}'\n",
        "     .format(linreg.coef_))\n",
        "print('(poly deg 2) linear model intercept (b): {:.3f}'\n",
        "     .format(linreg.intercept_))\n",
        "print('(poly deg 2) R-squared score (training): {:.3f}'\n",
        "     .format(linreg.score(X_train, y_train)))\n",
        "print('(poly deg 2) R-squared score (test): {:.3f}\\n'\n",
        "     .format(linreg.score(X_test, y_test)))"
      ],
      "execution_count": 28,
      "outputs": [
        {
          "output_type": "stream",
          "name": "stdout",
          "text": [
            "(poly deg 2) linear model coeff (w):\n",
            "[ 3.40951018e-12  1.66452443e+01  2.67285381e+01 -2.21348316e+01\n",
            "  1.24359227e+01  6.93086826e+00  1.04772675e+00  3.71352773e+00\n",
            " -1.33785505e+01 -5.73177185e+00  1.61813184e+00  3.66399592e+00\n",
            "  5.04513181e+00 -1.45835979e+00  1.95156872e+00 -1.51297378e+01\n",
            "  4.86762224e+00 -2.97084269e+00 -7.78370522e+00  5.14696078e+00\n",
            " -4.65479361e+00  1.84147395e+01 -2.22040650e+00  2.16572630e+00\n",
            " -1.27989481e+00  1.87946559e+00  1.52962716e-01  5.62073813e-01\n",
            " -8.91697516e-01 -2.18481128e+00  1.37595426e+00 -4.90336041e+00\n",
            " -2.23535458e+00  1.38268439e+00 -5.51908208e-01 -1.08795007e+00]\n",
            "(poly deg 2) linear model intercept (b): -3.206\n",
            "(poly deg 2) R-squared score (training): 0.969\n",
            "(poly deg 2) R-squared score (test): 0.805\n",
            "\n"
          ]
        }
      ]
    },
    {
      "cell_type": "markdown",
      "source": [
        "##Ridge Regression with Polynomial Features"
      ],
      "metadata": {
        "id": "prF02tiC2_Sd"
      }
    },
    {
      "cell_type": "code",
      "metadata": {
        "id": "Ov-A7Mj8AMA6",
        "colab": {
          "base_uri": "https://localhost:8080/"
        },
        "outputId": "d6d564ec-e990-4355-85cc-2930a0db74db"
      },
      "source": [
        "X_train, X_test, y_train, y_test = train_test_split(X_F1_poly, y_F1, random_state = 0)\n",
        "linreg = Ridge().fit(X_train, y_train)\n",
        "\n",
        "print('(poly deg 2 + ridge) linear model coeff (w):\\n{}'\n",
        "     .format(linreg.coef_))\n",
        "print('(poly deg 2 + ridge) linear model intercept (b): {:.3f}'\n",
        "     .format(linreg.intercept_))\n",
        "print('(poly deg 2 + ridge) R-squared score (training): {:.3f}'\n",
        "     .format(linreg.score(X_train, y_train)))\n",
        "print('(poly deg 2 + ridge) R-squared score (test): {:.3f}'\n",
        "     .format(linreg.score(X_test, y_test)))"
      ],
      "execution_count": 32,
      "outputs": [
        {
          "output_type": "stream",
          "name": "stdout",
          "text": [
            "(poly deg 2 + ridge) linear model coeff (w):\n",
            "[ 0.          2.229281    4.73349734 -3.15432089  3.8585194   1.60970912\n",
            " -0.76967054 -0.14956002 -1.75215371  1.5970487   1.37080607  2.51598244\n",
            "  2.71746523  0.48531538 -1.9356048  -1.62914955  1.51474518  0.88674141\n",
            "  0.26141199  2.04931775 -1.93025705  3.61850966 -0.71788143  0.63173956\n",
            " -3.16429847  1.29161448  3.545085    1.73422041  0.94347654 -0.51207219\n",
            "  1.70114448 -1.97949067  1.80687548 -0.2173863   2.87585898 -0.89423157]\n",
            "(poly deg 2 + ridge) linear model intercept (b): 5.418\n",
            "(poly deg 2 + ridge) R-squared score (training): 0.826\n",
            "(poly deg 2 + ridge) R-squared score (test): 0.825\n"
          ]
        }
      ]
    }
  ]
}